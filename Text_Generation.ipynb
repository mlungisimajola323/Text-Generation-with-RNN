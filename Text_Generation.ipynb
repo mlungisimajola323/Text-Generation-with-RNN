{
 "cells": [
  {
   "cell_type": "markdown",
   "id": "af74e099",
   "metadata": {},
   "source": [
    "## Text Generation with RNN"
   ]
  },
  {
   "cell_type": "code",
   "execution_count": null,
   "id": "ab87c36b",
   "metadata": {},
   "outputs": [],
   "source": []
  }
 ],
 "metadata": {
  "language_info": {
   "name": "python"
  }
 },
 "nbformat": 4,
 "nbformat_minor": 5
}
